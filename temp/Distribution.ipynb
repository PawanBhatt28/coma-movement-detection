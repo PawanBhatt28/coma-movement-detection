{
 "cells": [
  {
   "cell_type": "code",
   "execution_count": 9,
   "id": "b11dc83c-8432-464f-93e2-74d2a5968464",
   "metadata": {},
   "outputs": [],
   "source": [
    "import pandas as pd\n",
    "import numpy as np\n",
    "import matplotlib.pyplot as plt\n",
    "import seaborn as sns"
   ]
  },
  {
   "cell_type": "code",
   "execution_count": 10,
   "id": "fcd3f366-2d08-47a2-86b8-0965ae9b9d22",
   "metadata": {},
   "outputs": [],
   "source": [
    "data = pd.read_csv(\"data.csv\")"
   ]
  },
  {
   "cell_type": "code",
   "execution_count": 11,
   "id": "6137926a-8a88-4993-89c3-ff8a650dc085",
   "metadata": {},
   "outputs": [
    {
     "data": {
      "text/html": [
       "<div>\n",
       "<style scoped>\n",
       "    .dataframe tbody tr th:only-of-type {\n",
       "        vertical-align: middle;\n",
       "    }\n",
       "\n",
       "    .dataframe tbody tr th {\n",
       "        vertical-align: top;\n",
       "    }\n",
       "\n",
       "    .dataframe thead th {\n",
       "        text-align: right;\n",
       "    }\n",
       "</style>\n",
       "<table border=\"1\" class=\"dataframe\">\n",
       "  <thead>\n",
       "    <tr style=\"text-align: right;\">\n",
       "      <th></th>\n",
       "      <th>time</th>\n",
       "      <th>left_eye</th>\n",
       "      <th>right_eye</th>\n",
       "      <th>lips</th>\n",
       "      <th>head_h</th>\n",
       "      <th>head_v</th>\n",
       "      <th>head_slope</th>\n",
       "      <th>planar_angle</th>\n",
       "      <th>abs_mov</th>\n",
       "      <th>lip_sum</th>\n",
       "      <th>lip_ratio</th>\n",
       "    </tr>\n",
       "  </thead>\n",
       "  <tbody>\n",
       "    <tr>\n",
       "      <th>0</th>\n",
       "      <td>1</td>\n",
       "      <td>0.000000</td>\n",
       "      <td>0</td>\n",
       "      <td>0.000000</td>\n",
       "      <td>0.0</td>\n",
       "      <td>0.0</td>\n",
       "      <td>0.0</td>\n",
       "      <td>0.000000</td>\n",
       "      <td>0</td>\n",
       "      <td>0.000000</td>\n",
       "      <td>0.000000</td>\n",
       "    </tr>\n",
       "    <tr>\n",
       "      <th>1</th>\n",
       "      <td>1</td>\n",
       "      <td>0.000000</td>\n",
       "      <td>0</td>\n",
       "      <td>0.000000</td>\n",
       "      <td>0.0</td>\n",
       "      <td>0.0</td>\n",
       "      <td>0.0</td>\n",
       "      <td>0.000000</td>\n",
       "      <td>0</td>\n",
       "      <td>0.000000</td>\n",
       "      <td>0.000000</td>\n",
       "    </tr>\n",
       "    <tr>\n",
       "      <th>2</th>\n",
       "      <td>0</td>\n",
       "      <td>0.360555</td>\n",
       "      <td>0</td>\n",
       "      <td>0.411033</td>\n",
       "      <td>1190.0</td>\n",
       "      <td>818.0</td>\n",
       "      <td>2008.0</td>\n",
       "      <td>0.000000</td>\n",
       "      <td>1</td>\n",
       "      <td>103.044054</td>\n",
       "      <td>0.411033</td>\n",
       "    </tr>\n",
       "    <tr>\n",
       "      <th>3</th>\n",
       "      <td>1</td>\n",
       "      <td>0.321978</td>\n",
       "      <td>0</td>\n",
       "      <td>0.000000</td>\n",
       "      <td>1208.0</td>\n",
       "      <td>803.0</td>\n",
       "      <td>2011.0</td>\n",
       "      <td>0.060762</td>\n",
       "      <td>1</td>\n",
       "      <td>0.000000</td>\n",
       "      <td>0.000000</td>\n",
       "    </tr>\n",
       "    <tr>\n",
       "      <th>4</th>\n",
       "      <td>2</td>\n",
       "      <td>0.023371</td>\n",
       "      <td>0</td>\n",
       "      <td>0.000000</td>\n",
       "      <td>1.0</td>\n",
       "      <td>3.0</td>\n",
       "      <td>2.0</td>\n",
       "      <td>0.011084</td>\n",
       "      <td>0</td>\n",
       "      <td>0.000000</td>\n",
       "      <td>0.000000</td>\n",
       "    </tr>\n",
       "  </tbody>\n",
       "</table>\n",
       "</div>"
      ],
      "text/plain": [
       "   time  left_eye  right_eye      lips  head_h  head_v  head_slope  \\\n",
       "0     1  0.000000          0  0.000000     0.0     0.0         0.0   \n",
       "1     1  0.000000          0  0.000000     0.0     0.0         0.0   \n",
       "2     0  0.360555          0  0.411033  1190.0   818.0      2008.0   \n",
       "3     1  0.321978          0  0.000000  1208.0   803.0      2011.0   \n",
       "4     2  0.023371          0  0.000000     1.0     3.0         2.0   \n",
       "\n",
       "   planar_angle  abs_mov     lip_sum  lip_ratio  \n",
       "0      0.000000        0    0.000000   0.000000  \n",
       "1      0.000000        0    0.000000   0.000000  \n",
       "2      0.000000        1  103.044054   0.411033  \n",
       "3      0.060762        1    0.000000   0.000000  \n",
       "4      0.011084        0    0.000000   0.000000  "
      ]
     },
     "execution_count": 11,
     "metadata": {},
     "output_type": "execute_result"
    }
   ],
   "source": [
    "data.head()"
   ]
  },
  {
   "cell_type": "code",
   "execution_count": 15,
   "id": "cfbee829-83f8-4114-9841-4f4b7d009b84",
   "metadata": {},
   "outputs": [
    {
     "data": {
      "text/plain": [
       "(array([636.,   2.,   0.,   0.,   0.,   0.,   0.,   0.,   0.,   0.,   0.,\n",
       "          0.,   0.,   0.,   2.]),\n",
       " array([  0.        ,  54.53333333, 109.06666667, 163.6       ,\n",
       "        218.13333333, 272.66666667, 327.2       , 381.73333333,\n",
       "        436.26666667, 490.8       , 545.33333333, 599.86666667,\n",
       "        654.4       , 708.93333333, 763.46666667, 818.        ]),\n",
       " <BarContainer object of 15 artists>)"
      ]
     },
     "execution_count": 15,
     "metadata": {},
     "output_type": "execute_result"
    },
    {
     "data": {
      "image/png": "[encoded data removed]",
      "text/plain": [
       "<Figure size 640x480 with 1 Axes>"
      ]
     },
     "metadata": {},
     "output_type": "display_data"
    }
   ],
   "source": [
    "plt.hist(data[\"head_v\"], bins=15)"
   ]
  },
  {
   "cell_type": "code",
   "execution_count": null,
   "id": "937ae8d7-549b-4ede-8979-fd817d07b11b",
   "metadata": {},
   "outputs": [],
   "source": []
  }
 ],
 "metadata": {
  "kernelspec": {
   "display_name": "Python 3 (ipykernel)",
   "language": "python",
   "name": "python3"
  },
  "language_info": {
   "codemirror_mode": {
    "name": "ipython",
    "version": 3
   },
   "file_extension": ".py",
   "mimetype": "text/x-python",
   "name": "python",
   "nbconvert_exporter": "python",
   "pygments_lexer": "ipython3",
   "version": "3.11.5"
  }
 },
 "nbformat": 4,
 "nbformat_minor": 5
}
