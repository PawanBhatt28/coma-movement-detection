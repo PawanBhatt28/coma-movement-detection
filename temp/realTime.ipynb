{
 "cells": [
  {
   "cell_type": "code",
   "execution_count": null,
   "metadata": {
    "collapsed": true
   },
   "outputs": [],
   "source": []
  },
  {
   "cell_type": "code",
   "execution_count": 1,
   "outputs": [
    {
     "data": {
      "text/plain": "<Figure size 640x480 with 0 Axes>"
     },
     "metadata": {},
     "output_type": "display_data"
    }
   ],
   "source": [
    "\n",
    "import pandas as pd\n",
    "import matplotlib.pyplot as plt\n",
    "from matplotlib.animation import FuncAnimation\n",
    "\n",
    "x_vals = []\n",
    "y_vals = []\n",
    "\n",
    "\n",
    "def animate(i):\n",
    "    data = pd.read_csv(\"data.csv\")\n",
    "    x = data[\"frame\"]\n",
    "    y = data[\"eye\"]\n",
    "    y2 = data[\"ear\"]\n",
    "    y3 = data[\"facial\"]\n",
    "    plt.cla()\n",
    "    # plt.plot(x, [3 for i in range(len(x))])\n",
    "    # plt.plot(x, [1.5 for i in range(len(x))])\n",
    "    # plt.plot(x, [2.5 for i in range(len(x))])\n",
    "    # plt.plot(x, [4.2 for i in range(len(x))])\n",
    "    # plt.plot(x, y)\n",
    "    # plt.plot(x, y3)\n",
    "    plt.plot(x, y2)\n",
    "    plt.legend([\"distance\", \"change\"])\n",
    "\n",
    "anim = FuncAnimation(plt.gcf(), animate, interval=0.01, cache_frame_data=False)\n",
    "plt.show()"
   ],
   "metadata": {
    "collapsed": false,
    "ExecuteTime": {
     "end_time": "2023-12-12T11:58:24.703602500Z",
     "start_time": "2023-12-12T11:58:23.023857200Z"
    }
   }
  },
  {
   "cell_type": "code",
   "execution_count": null,
   "outputs": [],
   "source": [],
   "metadata": {
    "collapsed": false
   }
  }
 ],
 "metadata": {
  "kernelspec": {
   "display_name": "Python 3",
   "language": "python",
   "name": "python3"
  },
  "language_info": {
   "codemirror_mode": {
    "name": "ipython",
    "version": 2
   },
   "file_extension": ".py",
   "mimetype": "text/x-python",
   "name": "python",
   "nbconvert_exporter": "python",
   "pygments_lexer": "ipython2",
   "version": "2.7.6"
  }
 },
 "nbformat": 4,
 "nbformat_minor": 0
}
